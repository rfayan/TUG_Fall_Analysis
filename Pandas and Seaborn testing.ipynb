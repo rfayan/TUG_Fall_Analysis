{
 "cells": [
  {
   "cell_type": "code",
   "execution_count": null,
   "metadata": {},
   "outputs": [],
   "source": [
    "import numpy as np\n",
    "import matplotlib.pyplot as plt\n",
    "from scipy import signal\n",
    "import pickle\n",
    "from IPython.core.display import display, HTML\n",
    "import pandas as pd\n",
    "\n",
    "import tensorflow as tf\n",
    "from keras.layers import Input, Dense, Conv2D, MaxPooling2D, UpSampling2D, Flatten, Reshape, Conv2DTranspose, BatchNormalization\n",
    "from keras.callbacks import EarlyStopping, ModelCheckpoint\n",
    "from keras.models import Model, load_model\n",
    "from keras import backend as K\n",
    "\n",
    "from sklearn.decomposition import PCA\n",
    "from sklearn.model_selection import train_test_split\n",
    "from sklearn.preprocessing import StandardScaler\n",
    "\n",
    "from sys import path\n",
    "path.append(\"..\"); from generate_patients import Patient"
   ]
  },
  {
   "cell_type": "code",
   "execution_count": null,
   "metadata": {},
   "outputs": [],
   "source": [
    "display(HTML(\"<style>.container { width:90% !important; }</style>\"))\n",
    "plt.interactive(True)\n",
    "%matplotlib inline\n",
    "plt.rcParams['figure.figsize'] = [28, 6]"
   ]
  },
  {
   "cell_type": "code",
   "execution_count": null,
   "metadata": {},
   "outputs": [],
   "source": [
    "df_results = pd.read_pickle(\"./results.pkl\")  # Load pandas dataframe containing results summary\n",
    "df_results"
   ]
  },
  {
   "cell_type": "code",
   "execution_count": null,
   "metadata": {},
   "outputs": [],
   "source": [
    "df_results = df_results.drop(index='1088F_128C_SVM')"
   ]
  },
  {
   "cell_type": "code",
   "execution_count": null,
   "metadata": {},
   "outputs": [],
   "source": [
    "df_results.to_pickle(\"./results.pkl\")"
   ]
  },
  {
   "cell_type": "code",
   "execution_count": null,
   "metadata": {},
   "outputs": [],
   "source": [
    "column_names = ['Signal', 'Method', 'Features', 'Components', 'AUC_Score', 'F1_Score', 'Average_Precision', 'Balanced_Accuracy']\n",
    "results = pd.DataFrame(columns=column_names)\n",
    "results"
   ]
  },
  {
   "cell_type": "code",
   "execution_count": null,
   "metadata": {},
   "outputs": [],
   "source": [
    "(results.loc[index_name, 'AUC_Score'] + results.loc[index_name, 'F1_Score'])/2"
   ]
  },
  {
   "cell_type": "code",
   "execution_count": null,
   "metadata": {},
   "outputs": [],
   "source": [
    "index_name = '1088F_64Ca_SVM'\n",
    "\n",
    "if index_name not in results.index or 2>3:\n",
    "    print('aeee')\n",
    "    row_values = ['Whole', 'SVM', '1088', '64', 0.941176, 0.881768, 0.861029, 0.767123]\n",
    "    results.loc[index_name, :] = row_values\n",
    "    results"
   ]
  },
  {
   "cell_type": "code",
   "execution_count": null,
   "metadata": {},
   "outputs": [],
   "source": [
    "value = results.loc[index_name, 'AUC_Score'] + results.loc[index_name, 'F1_Score']"
   ]
  },
  {
   "cell_type": "code",
   "execution_count": null,
   "metadata": {},
   "outputs": [],
   "source": [
    "# index_name = '1088F_64C_SVM'\n",
    "# if (auc_score + F1_score)/2 > results.loc[index_name, 'AUC_Score'] + results.loc[index_name, 'F1_Score']:\n",
    "#     results.loc[index_name, :] = [auc_score, average_precision, balanced_accuracy, F1_score]\n",
    "#     plt.savefig(index_name + '.png', bbox_inches='tight')"
   ]
  },
  {
   "cell_type": "code",
   "execution_count": null,
   "metadata": {},
   "outputs": [],
   "source": [
    "with open('../patients.obj', 'rb') as patients_file:\n",
    "    patients = pickle.load(patients_file)\n",
    "    \n",
    "print(len(patients))"
   ]
  },
  {
   "cell_type": "code",
   "execution_count": null,
   "metadata": {},
   "outputs": [],
   "source": [
    "valid_patients = [patient for patient in patients if patient.features[10] >= 0]\n",
    "print('Number of patients: %s' % len(valid_patients))"
   ]
  },
  {
   "cell_type": "code",
   "execution_count": null,
   "metadata": {},
   "outputs": [],
   "source": [
    "df = pd.DataFrame([patient.features for patient in valid_patients],\n",
    "                   columns=['ID', 'pse', 'psp1', 'psp2', 'psp3', 'pspf1', 'pspf2', 'pspf3', 'wpsp', 'cpt', 'faller', 'faller_3M', 'faller_6M', 'faller_9M', 'faller_12M', 'age'])\n",
    "\n",
    "# Column formating\n",
    "df['ID'] = df['ID'].apply(lambda value: str(int(value)))\n",
    "df['age'] = df['age'].apply(lambda value: int(value))\n",
    "\n",
    "faller_columns = ['faller', 'faller_3M', 'faller_6M', 'faller_9M', 'faller_12M']\n",
    "df[faller_columns] = df[faller_columns].applymap(lambda value: int(value))\n",
    "\n",
    "round(df.describe(), 3)"
   ]
  },
  {
   "cell_type": "code",
   "execution_count": null,
   "metadata": {},
   "outputs": [],
   "source": [
    "df.loc[df['faller'] == True].head()"
   ]
  },
  {
   "cell_type": "code",
   "execution_count": null,
   "metadata": {},
   "outputs": [],
   "source": [
    "df.loc[df['faller'] == False].head()"
   ]
  },
  {
   "cell_type": "code",
   "execution_count": null,
   "metadata": {},
   "outputs": [],
   "source": [
    "pd.concat([df.loc[df['faller'] == True], df.loc[df['faller'] == False]], axis=1, keys=['👎 Faller', '👍 Non-Faller']).describe()"
   ]
  },
  {
   "cell_type": "markdown",
   "metadata": {},
   "source": [
    "### Seaborn"
   ]
  },
  {
   "cell_type": "code",
   "execution_count": null,
   "metadata": {},
   "outputs": [],
   "source": [
    "import seaborn as sns"
   ]
  },
  {
   "cell_type": "code",
   "execution_count": null,
   "metadata": {},
   "outputs": [],
   "source": [
    "plt.subplot(141)\n",
    "plt.subplot(142)\n",
    "plt.subplot(143)\n",
    "plt.subplot(212)\n",
    "sns.barplot(['AUC_Score', 'F1_Score'], [results.loc[index_name, 'AUC_Score'], results.loc[index_name, 'F1_Score']])\n",
    "# plt.tight()"
   ]
  },
  {
   "cell_type": "code",
   "execution_count": null,
   "metadata": {},
   "outputs": [],
   "source": [
    "plt.subplot(221)\n",
    "sns.barplot(x=['AUC_Score', 'F1_Score'], y=[4, 3])\n",
    "\n",
    "plt.subplot(222)\n",
    "sns.barplot(x=['AUC_Score', 'F1_Score'], y=[4, 3])\n",
    "\n",
    "plt.subplot(212)\n",
    "sns.barplot(x=['AUC_Score', 'F1_Score'], y=[4, 3])\n",
    "\n",
    "plt.show()"
   ]
  },
  {
   "cell_type": "code",
   "execution_count": null,
   "metadata": {},
   "outputs": [],
   "source": [
    "corr = df.corr().iloc[:32, :32]\n",
    "\n",
    "fig, (ax) = plt.subplots(1, 1, figsize=(24,12))\n",
    "hm = sns.heatmap(corr, \n",
    "                 ax=ax,           # Axes in which to draw the plot, otherwise use the currently-active Axes.\n",
    "                 cmap=\"coolwarm\", # Color Map.\n",
    "                 #square=True,    # If True, set the Axes aspect to “equal” so each cell will be square-shaped.\n",
    "                 annot=True, \n",
    "                 fmt='.2f',       # String formatting code to use when adding annotations.\n",
    "                 #annot_kws={\"size\": 14},\n",
    "                 linewidths=.05)\n",
    "\n",
    "fig.subplots_adjust(top=0.93)\n",
    "fig.suptitle('Features Correlation Heatmap', fontsize=14, fontweight='bold')"
   ]
  },
  {
   "cell_type": "code",
   "execution_count": null,
   "metadata": {},
   "outputs": [],
   "source": [
    "sns.pairplot(df, vars=components_list[:8], hue='faller')"
   ]
  },
  {
   "cell_type": "code",
   "execution_count": null,
   "metadata": {},
   "outputs": [],
   "source": [
    "sns.pairplot(df, vars=['pse', 'psp1', 'psp2', 'psp3', 'pspf1', 'pspf2', 'pspf3', 'wpsp', 'cpt'], hue='faller')"
   ]
  },
  {
   "cell_type": "code",
   "execution_count": null,
   "metadata": {},
   "outputs": [],
   "source": [
    "sns.countplot(data=df, x='age', hue=\"faller\")\n",
    "sns.jointplot(data=df, x='faller', y='faller_3M', kind='kde', space=0, height=6, ratio=4)"
   ]
  },
  {
   "cell_type": "markdown",
   "metadata": {},
   "source": [
    "### Grid Search and Classifier Testing"
   ]
  },
  {
   "cell_type": "code",
   "execution_count": null,
   "metadata": {},
   "outputs": [],
   "source": [
    "# pca = PCA(n_components=64)\n",
    "# X_train = pca.fit_transform(features_norm_train)\n",
    "# X_test = pca.transform(features_norm_test)\n",
    "# print('PCA Explained Variance:', sum(pca.explained_variance_ratio_))\n",
    "\n",
    "# grid_search = GridSearchCV(next(adab_classifier), param_grid=adab_parameter_grid, cv=StratifiedKFold(n_splits=4), scoring='roc_auc', n_jobs=-1)\n",
    "# grid_search.fit(X_train, y_train)\n",
    "# print('Best score: %s' % grid_search.best_score_)\n",
    "# print('Best parameters: %s\\n' % grid_search.best_params_)\n",
    "\n",
    "# pd.set_option('max_colwidth',120)\n",
    "# pd.DataFrame(grid_search.cv_results_)[['mean_test_score', 'params']].sort_values('mean_test_score', ascending=False)\n",
    "\n",
    "# # collect_and_print_results(grid_search.best_estimator_.predict_proba(X_test)[:, 1])"
   ]
  }
 ],
 "metadata": {
  "kernelspec": {
   "display_name": "Python 3",
   "language": "python",
   "name": "python3"
  },
  "language_info": {
   "codemirror_mode": {
    "name": "ipython",
    "version": 3
   },
   "file_extension": ".py",
   "mimetype": "text/x-python",
   "name": "python",
   "nbconvert_exporter": "python",
   "pygments_lexer": "ipython3",
   "version": "3.6.6"
  }
 },
 "nbformat": 4,
 "nbformat_minor": 2
}
