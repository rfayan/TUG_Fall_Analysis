{
 "cells": [
  {
   "cell_type": "code",
   "execution_count": 1,
   "metadata": {},
   "outputs": [
    {
     "name": "stderr",
     "output_type": "stream",
     "text": [
      "Using TensorFlow backend.\n"
     ]
    }
   ],
   "source": [
    "import numpy as np\n",
    "import matplotlib.pyplot as plt\n",
    "from scipy import signal\n",
    "import pickle\n",
    "from IPython.core.display import display, HTML\n",
    "\n",
    "import tensorflow as tf\n",
    "from keras.layers import Input, Dense, Conv2D, MaxPooling2D, UpSampling2D, Flatten, Reshape, Conv2DTranspose, Dropout\n",
    "from keras.models import Model\n",
    "from keras import backend as K\n",
    "\n",
    "from sklearn.model_selection import train_test_split"
   ]
  },
  {
   "cell_type": "code",
   "execution_count": 2,
   "metadata": {},
   "outputs": [
    {
     "data": {
      "text/html": [
       "<style>.container { width:90% !important; }</style>"
      ],
      "text/plain": [
       "<IPython.core.display.HTML object>"
      ]
     },
     "metadata": {},
     "output_type": "display_data"
    }
   ],
   "source": [
    "display(HTML(\"<style>.container { width:90% !important; }</style>\"))\n",
    "plt.interactive(True)\n",
    "%matplotlib inline\n",
    "plt.rcParams['figure.figsize'] = [26, 6]"
   ]
  },
  {
   "cell_type": "code",
   "execution_count": 3,
   "metadata": {},
   "outputs": [
    {
     "name": "stdout",
     "output_type": "stream",
     "text": [
      "Number of spectrograms: 693\n"
     ]
    }
   ],
   "source": [
    "with open('spectrograms_segmented.obj', 'rb') as specgram_file:\n",
    "    specgrams = pickle.load(specgram_file)\n",
    "\n",
    "print('Number of spectrograms: %s' % len(specgrams))"
   ]
  },
  {
   "cell_type": "code",
   "execution_count": 4,
   "metadata": {},
   "outputs": [
    {
     "name": "stdout",
     "output_type": "stream",
     "text": [
      "10 72\n"
     ]
    }
   ],
   "source": [
    "x_list = [specgram.shape[1] for specgram in specgrams]\n",
    "min_x = min(x_list)\n",
    "max_x = max(x_list)\n",
    "print(min_x, max_x)"
   ]
  },
  {
   "cell_type": "code",
   "execution_count": 5,
   "metadata": {},
   "outputs": [
    {
     "data": {
      "image/png": "[encoded data removed]",
      "text/plain": [
       "<Figure size 1872x432 with 6 Axes>"
      ]
     },
     "metadata": {
      "needs_background": "light"
     },
     "output_type": "display_data"
    }
   ],
   "source": [
    "n=6\n",
    "for i in range(n):\n",
    "    ax = plt.subplot(1, n, i+1)\n",
    "    plt.imshow(specgrams[i], cmap='gray')\n",
    "    ax.get_xaxis().set_visible(False)\n",
    "    ax.get_yaxis().set_visible(False)\n",
    "    \n",
    "plt.show()"
   ]
  },
  {
   "cell_type": "code",
   "execution_count": 6,
   "metadata": {},
   "outputs": [
    {
     "name": "stdout",
     "output_type": "stream",
     "text": [
      "693\n",
      "1384\n"
     ]
    }
   ],
   "source": [
    "print(len(specgrams))\n",
    "reshape = []\n",
    "for specgram in specgrams:\n",
    "    reshape.append(specgram[:,:min_x])\n",
    "    if len(specgram[1]) > min_x:\n",
    "        reshape.append(specgram[:,-min_x:])\n",
    "\n",
    "print(len(reshape))"
   ]
  },
  {
   "cell_type": "code",
   "execution_count": 7,
   "metadata": {},
   "outputs": [
    {
     "name": "stdout",
     "output_type": "stream",
     "text": [
      "(15, 10, 1)\n"
     ]
    }
   ],
   "source": [
    "dim = reshape[0].shape\n",
    "if len(dim) < 3:\n",
    "    dim += (1,)\n",
    "print(dim)"
   ]
  },
  {
   "cell_type": "code",
   "execution_count": 8,
   "metadata": {},
   "outputs": [
    {
     "name": "stdout",
     "output_type": "stream",
     "text": [
      "Training samples: 1038\n",
      "Test samples: 346\n"
     ]
    }
   ],
   "source": [
    "X_train, X_test = train_test_split(reshape, test_size=0.25, shuffle=False)\n",
    "X_train = np.reshape(X_train, (len(X_train), dim[0], dim[1], dim[2]))\n",
    "X_test = np.reshape(X_test, (len(X_test), dim[0], dim[1], dim[2]))\n",
    "print('Training samples: %s' % len(X_train))\n",
    "print('Test samples: %s' % len(X_test))"
   ]
  },
  {
   "cell_type": "markdown",
   "metadata": {},
   "source": [
    "## Autoencoder Model"
   ]
  },
  {
   "cell_type": "code",
   "execution_count": 9,
   "metadata": {
    "scrolled": false
   },
   "outputs": [
    {
     "name": "stdout",
     "output_type": "stream",
     "text": [
      "_________________________________________________________________\n",
      "Layer (type)                 Output Shape              Param #   \n",
      "=================================================================\n",
      "input_1 (InputLayer)         (None, 15, 10, 1)         0         \n",
      "_________________________________________________________________\n",
      "conv2d_1 (Conv2D)            (None, 10, 5, 8)          296       \n",
      "_________________________________________________________________\n",
      "max_pooling2d_1 (MaxPooling2 (None, 2, 1, 8)           0         \n",
      "_________________________________________________________________\n",
      "flatten_1 (Flatten)          (None, 16)                0         \n",
      "_________________________________________________________________\n",
      "dropout_1 (Dropout)          (None, 16)                0         \n",
      "_________________________________________________________________\n",
      "dense_1 (Dense)              (None, 8)                 136       \n",
      "_________________________________________________________________\n",
      "dense_2 (Dense)              (None, 16)                144       \n",
      "_________________________________________________________________\n",
      "reshape_1 (Reshape)          (None, 2, 1, 8)           0         \n",
      "_________________________________________________________________\n",
      "up_sampling2d_1 (UpSampling2 (None, 10, 5, 8)          0         \n",
      "_________________________________________________________________\n",
      "conv2d_transpose_1 (Conv2DTr (None, 15, 10, 1)         289       \n",
      "=================================================================\n",
      "Total params: 865\n",
      "Trainable params: 865\n",
      "Non-trainable params: 0\n",
      "_________________________________________________________________\n"
     ]
    }
   ],
   "source": [
    "input_img = Input(shape=dim)\n",
    "\n",
    "# encoder\n",
    "## conv.layers\n",
    "code = Conv2D(8, kernel_size=(6,6), activation='relu')(input_img)\n",
    "# code = MaxPooling2D(pool_size=(2, 2))(code)\n",
    "# code = Conv2D(8, kernel_size=(3,2), padding='valid', activation='relu')(code)\n",
    "code = MaxPooling2D(pool_size=(5, 5))(code)\n",
    "\n",
    "## dense\n",
    "code = Flatten()(code) # bottleneck\n",
    "code = Dropout(0.25)(code)\n",
    "code = Dense(8, activation='relu')(code)\n",
    "\n",
    "# decoder\n",
    "x_hat = Dense(16, activation='relu')(code)\n",
    "x_hat = Reshape((2, 1, 8))(x_hat)\n",
    "x_hat = UpSampling2D((5, 5))(x_hat)\n",
    "# x_hat = Conv2DTranspose(8, kernel_size=(3,3), padding='valid', activation='relu')(x_hat)\n",
    "#x_hat = UpSampling2D((2,2))(x_hat)\n",
    "x_hat = Conv2DTranspose(1, kernel_size=(6,6), activation='relu')(x_hat)\n",
    "\n",
    "#x_hat = Dense(784, activation='sigmoid')(x_hat)\n",
    "\n",
    "autoencoder = Model(input_img, x_hat)\n",
    "autoencoder.summary()"
   ]
  },
  {
   "cell_type": "code",
   "execution_count": 10,
   "metadata": {
    "scrolled": false
   },
   "outputs": [],
   "source": [
    "# input_img = Input(X_train[0].shape)\n",
    "\n",
    "# # encoder\n",
    "# code = Dense(102, activation='relu')(input_img)\n",
    "# code = Dense(34, activation='relu')(code)\n",
    "\n",
    "# # decoder\n",
    "# x_hat = Dense(102, activation='relu')(code)\n",
    "# x_hat = Dense(306, activation='sigmoid')(x_hat)\n",
    "\n",
    "# autoencoder = Model(input_img, x_hat)\n",
    "# autoencoder.summary()"
   ]
  },
  {
   "cell_type": "code",
   "execution_count": 11,
   "metadata": {
    "scrolled": false
   },
   "outputs": [
    {
     "name": "stdout",
     "output_type": "stream",
     "text": [
      "Train on 1038 samples, validate on 346 samples\n",
      "Epoch 1/10\n",
      "1038/1038 [==============================] - 0s 393us/step - loss: 0.0821 - val_loss: 0.0337\n",
      "Epoch 2/10\n",
      "1038/1038 [==============================] - 0s 207us/step - loss: 0.0311 - val_loss: 0.0258\n",
      "Epoch 3/10\n",
      "1038/1038 [==============================] - 0s 206us/step - loss: 0.0267 - val_loss: 0.0296\n",
      "Epoch 4/10\n",
      "1038/1038 [==============================] - 0s 210us/step - loss: 0.0235 - val_loss: 0.0240\n",
      "Epoch 5/10\n",
      "1038/1038 [==============================] - 0s 202us/step - loss: 0.0225 - val_loss: 0.0272\n",
      "Epoch 6/10\n",
      "1038/1038 [==============================] - 0s 179us/step - loss: 0.0218 - val_loss: 0.0278\n",
      "Epoch 7/10\n",
      "1038/1038 [==============================] - 0s 180us/step - loss: 0.0218 - val_loss: 0.0217\n",
      "Epoch 8/10\n",
      "1038/1038 [==============================] - 0s 181us/step - loss: 0.0211 - val_loss: 0.0315\n",
      "Epoch 9/10\n",
      "1038/1038 [==============================] - 0s 182us/step - loss: 0.0209 - val_loss: 0.0232\n",
      "Epoch 10/10\n",
      "1038/1038 [==============================] - 0s 227us/step - loss: 0.0205 - val_loss: 0.0300\n"
     ]
    }
   ],
   "source": [
    "autoencoder.compile(loss='mean_squared_error', optimizer='adadelta')\n",
    "\n",
    "# tamanho do batch por iteracao\n",
    "batch_size = 10\n",
    "\n",
    "# número de épocas \n",
    "epochs = 10\n",
    "\n",
    "# a variável history guarda os dados do processo de treinamento para\n",
    "# posteriormente analisarmos\n",
    "history = autoencoder.fit([X_train], [X_train],\n",
    "                    batch_size=batch_size,\n",
    "                    epochs=epochs,\n",
    "                    shuffle=True,\n",
    "                    verbose=1,\n",
    "                    validation_data=([X_test], [X_test]))"
   ]
  },
  {
   "cell_type": "code",
   "execution_count": 12,
   "metadata": {
    "scrolled": true
   },
   "outputs": [
    {
     "data": {
      "image/png": "[encoded data removed]",
      "text/plain": [
       "<Figure size 1872x432 with 1 Axes>"
      ]
     },
     "metadata": {
      "needs_background": "light"
     },
     "output_type": "display_data"
    }
   ],
   "source": [
    "# utilizando o histórico: o gráfico da função de custo ao longo das épocas\n",
    "plt.plot(history.history['loss'])\n",
    "plt.plot(history.history['val_loss'])\n",
    "plt.ylabel('Loss')\n",
    "plt.legend(['train', 'test'], loc='upper left')\n",
    "plt.show()"
   ]
  },
  {
   "cell_type": "code",
   "execution_count": 13,
   "metadata": {},
   "outputs": [
    {
     "data": {
      "image/png": "[encoded data removed]",
      "text/plain": [
       "<Figure size 1872x432 with 10 Axes>"
      ]
     },
     "metadata": {
      "needs_background": "light"
     },
     "output_type": "display_data"
    }
   ],
   "source": [
    "decoded_test = np.reshape(X_test, (len(X_test), dim[0], dim[1]))\n",
    "decoded_predictions = autoencoder.predict([X_test])\n",
    "decoded_predictions = np.reshape(decoded_predictions, (len(decoded_predictions), dim[0], dim[1]))\n",
    "\n",
    "n=5\n",
    "for i in range(n):\n",
    "    ax = plt.subplot(2, n, i+1)\n",
    "    plt.imshow(decoded_test[i], cmap='gray')\n",
    "    ax.get_xaxis().set_visible(False)\n",
    "    ax.get_yaxis().set_visible(False)\n",
    "\n",
    "    ax = plt.subplot(2, n, i+n+1)\n",
    "    plt.imshow(decoded_predictions[i], cmap='gray')\n",
    "    ax.get_xaxis().set_visible(False)\n",
    "    ax.get_yaxis().set_visible(False)\n",
    "    \n",
    "plt.show()"
   ]
  }
 ],
 "metadata": {
  "kernelspec": {
   "display_name": "Python 3",
   "language": "python",
   "name": "python3"
  },
  "language_info": {
   "codemirror_mode": {
    "name": "ipython",
    "version": 3
   },
   "file_extension": ".py",
   "mimetype": "text/x-python",
   "name": "python",
   "nbconvert_exporter": "python",
   "pygments_lexer": "ipython3",
   "version": "3.6.6"
  }
 },
 "nbformat": 4,
 "nbformat_minor": 2
}
